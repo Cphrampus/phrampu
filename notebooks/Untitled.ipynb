{
 "cells": [
  {
   "cell_type": "code",
   "execution_count": 57,
   "metadata": {
    "collapsed": false
   },
   "outputs": [],
   "source": [
    "import json\n",
    "import datetime\n",
    "import dateutil.parser\n",
    "\n",
    "def formatTime(isotime):\n",
    "    return dateutil.parser.parse(isotime).yourdate.strftime(\"%Y-%m-%d %H:%M:%S\")\n",
    "\n",
    "# test data\n",
    "data = json.load(open('test.json'))['rows']\n",
    "\n",
    "filteredData = []\n",
    "for row in data:\n",
    "    if 'timestamp' in row:\n",
    "        filteredData.append(row)\n",
    "\n",
    "times = [dateutil.parser.parse(row['timestamp']) for row in filteredData]"
   ]
  }
 ],
 "metadata": {
  "kernelspec": {
   "display_name": "Python 3",
   "language": "python",
   "name": "python3"
  },
  "language_info": {
   "codemirror_mode": {
    "name": "ipython",
    "version": 3
   },
   "file_extension": ".py",
   "mimetype": "text/x-python",
   "name": "python",
   "nbconvert_exporter": "python",
   "pygments_lexer": "ipython3",
   "version": "3.4.3"
  }
 },
 "nbformat": 4,
 "nbformat_minor": 1
}
